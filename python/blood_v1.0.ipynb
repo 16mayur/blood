{
 "cells": [
  {
   "cell_type": "code",
   "execution_count": 57,
   "metadata": {},
   "outputs": [
    {
     "name": "stdout",
     "output_type": "stream",
     "text": [
      "Tweet:  1 -->  1022488627723612162 \n",
      " Need O- blood at Royal hospital, Bikaner .call me on 1234567890\n",
      "\n",
      "#bloodinthecity\n",
      "\n",
      "[Fake tweet]\n",
      "city =  Bikaner \n",
      "\n",
      "\n"
     ]
    }
   ],
   "source": [
    "from twython import Twython\n",
    "#just shows the Tweets by #\n",
    "\n",
    "TWITTER_APP_KEY = '6yr5XKUCNUpBbjPtFE4JFeoTr'\n",
    "TWITTER_APP_KEY_SECRET = 'tjilRifkYsrKUjP0KyzTdhJgtQYqV1U4WiaN50XQVYn05x86ud'\n",
    "TWITTER_ACCESS_TOKEN = '1018536585091043328-dtlyqR9TzH1yk5zlGKvPPoGtlqlPO6'\n",
    "TWITTER_ACCESS_TOKEN_SECRET ='38ZbyqEdCwO8KdKZayVtr2336W3VzRoyfAuMI75TfR03j'\n",
    "t = Twython(app_key=TWITTER_APP_KEY,\n",
    "            app_secret=TWITTER_APP_KEY_SECRET,\n",
    "            oauth_token=TWITTER_ACCESS_TOKEN,\n",
    "            oauth_token_secret=TWITTER_ACCESS_TOKEN_SECRET)\n",
    "\n",
    "search = t.search(q='#bloodinthecity',count=1000)\n",
    "\n",
    "\n",
    "tweets = search['statuses']\n",
    "\n",
    "\n",
    "city=['mumbai','pune','delhi','nagpur','surat','jaipur','bikaner','jodhpur','nagaur','jhunjhunu']\n",
    "no=1\n",
    "for tweet in tweets:\n",
    "    tweet_list=tweet['text']\n",
    "\n",
    "\n",
    "    print (\"Tweet: \",no,\"--> \", tweet['id_str'], '\\n', tweet['text'])\n",
    "    msg = tweet['text']\n",
    "    a=tweet_list.split()\n",
    "    b=[]\n",
    "    for w in a:\n",
    "        b.append(w.lower())\n",
    "#     print(\"Tweet=\",b)\n",
    "# msg=tweet['text']\n",
    "\n",
    "    for i in city:\n",
    "        if i in b:\n",
    "            print(\"city = \",i.capitalize(),\"\\n\\n\") \n",
    "    no+=1\n",
    "# print(\"final:\", msg)"
   ]
  },
  {
   "cell_type": "code",
   "execution_count": 58,
   "metadata": {},
   "outputs": [
    {
     "name": "stdout",
     "output_type": "stream",
     "text": [
      "caching sha2: succeeded by fast path.\n",
      "[8552801739, 9833624306]\n"
     ]
    }
   ],
   "source": [
    "import pymysql\n",
    "# Open database connection.\n",
    "connection = pymysql.connect(host=\"localhost\", user=\"root\", passwd=\"onion\", db=\"blood\")\n",
    "\n",
    "# prepare a cursor object using cursor() method of connection object.\n",
    "cursor = connection.cursor()\n",
    "\n",
    "# execute MySQL query using execute() method of cursor object.\n",
    "cursor.execute(\"SELECT VERSION()\")\n",
    "\n",
    "sql = \"\"\"SELECT * FROM list where city='bikaner'\"\"\"\n",
    "\n",
    "try:\n",
    "    # Execute the SQL command\n",
    "    cursor.execute(sql)\n",
    "    number=[]\n",
    "    # Fetch all the rows in a list of lists.\n",
    "    results = cursor.fetchall()\n",
    "    for row in results:\n",
    "#         print(\"\\nName:\",row[0], \"\\nNumber:\", row[1], \"\\nCity:\", row[2], \"\\nBlood Group\", row[3], \"\\nEmailID:\", row[4])\n",
    "        number.append(row[1])\n",
    "except:\n",
    "    print(\"Error: unable to fetch data\")\n",
    "\n",
    "\n",
    "print(number)\n",
    "connection.close()\n",
    "\n"
   ]
  },
  {
   "cell_type": "code",
   "execution_count": 72,
   "metadata": {},
   "outputs": [
    {
     "name": "stdout",
     "output_type": "stream",
     "text": [
      "9833624306\n"
     ]
    }
   ],
   "source": [
    "print(number[1])"
   ]
  },
  {
   "cell_type": "code",
   "execution_count": 73,
   "metadata": {},
   "outputs": [
    {
     "name": "stdout",
     "output_type": "stream",
     "text": [
      "sender_id=FSTSMS&message=Need O- blood at Royal hospital, Bikaner .call me on 1234567890\n",
      "\n",
      "#bloodinthecity\n",
      "\n",
      "[Fake tweet]&language=english&route=p&numbers=9833624306\n"
     ]
    }
   ],
   "source": [
    "text1 = \"sender_id=FSTSMS&message=\"+msg+\"&language=english&route=p&numbers=\"+str(number[1])     \n",
    "print(text1)"
   ]
  },
  {
   "cell_type": "code",
   "execution_count": 75,
   "metadata": {},
   "outputs": [
    {
     "name": "stdout",
     "output_type": "stream",
     "text": [
      "{\"return\":true,\"message\":[\"SMS scheduled successfully at 9AM (in morning)\"],\"request_id\":\"7ekwmiou2y3dz09\"}\n"
     ]
    }
   ],
   "source": [
    "import requests\n",
    " \n",
    "url = \"https://www.fast2sms.com/dev/bulk\"\n",
    " \n",
    "payload = \"sender_id=FSTSMS&message= Need O- blood at Royal hospital, Bikaner .call me on 1234567890&language=english&route=p&numbers=8552801739\"\n",
    "headers = {\n",
    " 'authorization': \"ln9wR43k7r2yHctz5IsZNvpQexBSgGKYqb0UfVJCiA6FdaMLXPzlx6wSGEKtDgNIaZnM9vAd2WTy8sOk\",\n",
    " 'Content-Type': \"application/x-www-form-urlencoded\",\n",
    " 'Cache-Control': \"no-cache\",\n",
    " }\n",
    " \n",
    "response = requests.request(\"POST\", url, data=payload, headers=headers)\n",
    " \n",
    "print(response.text)"
   ]
  },
  {
   "cell_type": "code",
   "execution_count": null,
   "metadata": {
    "collapsed": true
   },
   "outputs": [],
   "source": []
  }
 ],
 "metadata": {
  "kernelspec": {
   "display_name": "Python 3",
   "language": "python",
   "name": "python3"
  },
  "language_info": {
   "codemirror_mode": {
    "name": "ipython",
    "version": 3
   },
   "file_extension": ".py",
   "mimetype": "text/x-python",
   "name": "python",
   "nbconvert_exporter": "python",
   "pygments_lexer": "ipython3",
   "version": "3.6.3"
  }
 },
 "nbformat": 4,
 "nbformat_minor": 2
}

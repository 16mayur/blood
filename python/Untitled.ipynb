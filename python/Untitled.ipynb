{
 "cells": [
  {
   "cell_type": "code",
   "execution_count": 1,
   "metadata": {
    "collapsed": true
   },
   "outputs": [],
   "source": [
    "import pymysql"
   ]
  },
  {
   "cell_type": "code",
   "execution_count": 36,
   "metadata": {},
   "outputs": [
    {
     "name": "stdout",
     "output_type": "stream",
     "text": [
      "caching sha2: succeeded by fast path.\n",
      "\n",
      "Name: SMIT \n",
      "Number: 8767973888 \n",
      "City: New Delhi \n",
      "Blood Group A+ \n",
      "EmailID: smitjethwa20@gmail.com\n",
      "\n",
      "Name: Sandesh \n",
      "Number: 9876543210 \n",
      "City: Mumbai \n",
      "Blood Group O- \n",
      "EmailID: nshekhawat997@gmail.com\n",
      "\n",
      "Name: Mayur \n",
      "Number: 9999999999 \n",
      "City: Jaipur \n",
      "Blood Group AB+ \n",
      "EmailID: pranalis901@gmail.com\n"
     ]
    }
   ],
   "source": [
    "# Open database connection.\n",
    "connection = pymysql.connect(host=\"localhost\", user=\"root\", passwd=\"onion\", db=\"blood\")\n",
    "\n",
    "# prepare a cursor object using cursor() method of connection object.\n",
    "cursor = connection.cursor()\n",
    "\n",
    "# execute MySQL query using execute() method of cursor object.\n",
    "cursor.execute(\"SELECT VERSION()\")\n",
    "\n",
    "sql = \"\"\"SELECT * FROM list\"\"\"\n",
    "\n",
    "try:\n",
    "    # Execute the SQL command\n",
    "    cursor.execute(sql)\n",
    "    \n",
    "    # Fetch all the rows in a list of lists.\n",
    "    results = cursor.fetchall()\n",
    "    for row in results:\n",
    "        print(\"\\nName:\",row[0], \"\\nNumber:\", row[1], \"\\nCity:\", row[2], \"\\nBlood Group\", row[3], \"\\nEmailID:\", row[4])\n",
    "        \n",
    "except:\n",
    "    print(\"Error: unable to fecth data\")\n",
    "    \n",
    "connection.close()"
   ]
  },
  {
   "cell_type": "code",
   "execution_count": 35,
   "metadata": {},
   "outputs": [
    {
     "name": "stdout",
     "output_type": "stream",
     "text": [
      "{\"return\":false,\"status_code\":412,\"message\":\"Invalid Authentication\"}\n"
     ]
    }
   ],
   "source": [
    "import requests\n",
    " \n",
    "url = \"https://www.fast2sms.com/dev/bulk\"\n",
    " \n",
    "payload = \"sender_id=FSTSMS&message=Need O+ blood in City Hospital, Bikaner call me on 9702333759 &language=english&route=p&numbers=8552801739\"\n",
    "headers = {\n",
    "#  'authorization': \"ln9wR43k7r2yHctz5IsZNvpQexBSgGKYqb0UfVJCiA6FdaMLXPzlx6wSGEKtDgNIaZnM9vAd2WTy8sOk\",\n",
    " 'Content-Type': \"application/x-www-form-urlencoded\",\n",
    " 'Cache-Control': \"no-cache\",\n",
    " }\n",
    " \n",
    "# response = requests.request(\"POST\", url, data=payload, headers=headers)\n",
    " \n",
    "print(response.text)"
   ]
  },
  {
   "cell_type": "code",
   "execution_count": 38,
   "metadata": {
    "collapsed": true
   },
   "outputs": [],
   "source": [
    "import flask"
   ]
  },
  {
   "cell_type": "code",
   "execution_count": 60,
   "metadata": {},
   "outputs": [
    {
     "ename": "ModuleNotFoundError",
     "evalue": "No module named 'flask.mysql'",
     "output_type": "error",
     "traceback": [
      "\u001b[1;31m---------------------------------------------------------------------------\u001b[0m",
      "\u001b[1;31mModuleNotFoundError\u001b[0m                       Traceback (most recent call last)",
      "\u001b[1;32m<ipython-input-60-8ad9fe08ab5c>\u001b[0m in \u001b[0;36m<module>\u001b[1;34m()\u001b[0m\n\u001b[0;32m      1\u001b[0m \u001b[1;33m\u001b[0m\u001b[0m\n\u001b[0;32m      2\u001b[0m \u001b[1;32mfrom\u001b[0m \u001b[0mflask\u001b[0m \u001b[1;32mimport\u001b[0m \u001b[0mFlask\u001b[0m\u001b[1;33m\u001b[0m\u001b[0m\n\u001b[1;32m----> 3\u001b[1;33m \u001b[1;32mfrom\u001b[0m \u001b[0mflask\u001b[0m\u001b[1;33m.\u001b[0m\u001b[0mmysql\u001b[0m \u001b[1;32mimport\u001b[0m \u001b[0mMySQL\u001b[0m\u001b[1;33m\u001b[0m\u001b[0m\n\u001b[0m\u001b[0;32m      4\u001b[0m \u001b[0mmysql\u001b[0m \u001b[1;33m=\u001b[0m \u001b[0mMySQL\u001b[0m\u001b[1;33m(\u001b[0m\u001b[1;33m)\u001b[0m\u001b[1;33m\u001b[0m\u001b[0m\n\u001b[0;32m      5\u001b[0m \u001b[0mapp\u001b[0m\u001b[1;33m=\u001b[0m\u001b[0mFlask\u001b[0m\u001b[1;33m(\u001b[0m\u001b[0m__name__\u001b[0m\u001b[1;33m)\u001b[0m\u001b[1;33m\u001b[0m\u001b[0m\n",
      "\u001b[1;31mModuleNotFoundError\u001b[0m: No module named 'flask.mysql'"
     ]
    }
   ],
   "source": [
    "\n",
    "from flask import Flask\n",
    "from flask.mysql import MySQL\n",
    "mysql = MySQL()\n",
    "app=Flask(__name__)\n",
    "app.config['MYSQL_DATABASE_USER'] =\"root\"\n",
    "app.config['MYSQL_DATABASE_PASSWORD'] = \"onion\"\n",
    "app.config['MYSQL_DATABASE_DB'] =\"blood\"\n",
    "app.config['MYSQL_DATABASE_HOST'] = \"localhost\"\n",
    "mysql.init_app(app)\n",
    "con=mysql.connect()\n",
    "cursor=con.cursor()\n",
    "@app.route('/register',methods=['POST'])\n",
    "def register():\n",
    "    name=request.form['name']\n",
    "    email=request.form['email']\n",
    "    pas=request.form['pass']\n",
    "    cursor.execute(\"insert into hello values (%s,%s,%s)\",\t\t(name,email,pas))\n",
    "    con.commit()\n",
    "    return \"successfully registered\"\n"
   ]
  },
  {
   "cell_type": "code",
   "execution_count": 61,
   "metadata": {},
   "outputs": [
    {
     "name": "stdout",
     "output_type": "stream",
     "text": [
      "Content-type: text/html\n",
      "\n",
      "<form method=\"\" action=\"\"> <fieldset> <legend>Personal information:</legend> Last name:<input type=\"text\" name=\"lastname\" value=\"lastname\"><br> First name:<input type=\"text\" name=\"firstname\" value=\"firstname\"><br> MidtermGrade:<input type=\"text\" name=\"midtermgrade\" value=\"midtermgrade\"><br> FinalGrade:<input type=\"text\" name=\"finalgrade\" value=\"finalgrade\"><br> FirstHW:<input type=\"text\" name=\"firsthw\" value=\"firsthw\"><br> SecondHW:<input type=\"text\" name=\"secondhw\" value=\"secondhw\"><br> ThirdHW:<input type=\"text\" name=\"thirdhw\" value=\"thirdhw\"><br> <br><br><input type=\"submit\" value=\"Submit\"> </fieldset></form>\n"
     ]
    }
   ],
   "source": [
    "import cgitb\n",
    "import pymysql\n",
    "cgitb.enable()\n",
    "print(\"Content-type: text/html\\n\")\n",
    "\n",
    "print('<form method=\"\" action=\"\">',\n",
    "          '<fieldset>',\n",
    "              '<legend>Personal information:</legend>',\n",
    "              'Last name:'\n",
    "              '<input type=\"text\" name=\"lastname\" value=\"lastname\"><br>',\n",
    "              'First name:'\n",
    "              '<input type=\"text\" name=\"firstname\" value=\"firstname\"><br>',\n",
    "              'MidtermGrade:'\n",
    "              '<input type=\"text\" name=\"midtermgrade\" value=\"midtermgrade\"><br>',\n",
    "              'FinalGrade:'\n",
    "              '<input type=\"text\" name=\"finalgrade\" value=\"finalgrade\"><br>',\n",
    "              'FirstHW:'\n",
    "              '<input type=\"text\" name=\"firsthw\" value=\"firsthw\"><br>',\n",
    "              'SecondHW:'\n",
    "              '<input type=\"text\" name=\"secondhw\" value=\"secondhw\"><br>',\n",
    "              'ThirdHW:'\n",
    "              '<input type=\"text\" name=\"thirdhw\" value=\"thirdhw\"><br>',\n",
    "              '<br><br>'\n",
    "              '<input type=\"submit\" value=\"Submit\">',\n",
    "          '</fieldset>'\n",
    "     '</form>')"
   ]
  },
  {
   "cell_type": "code",
   "execution_count": 62,
   "metadata": {},
   "outputs": [
    {
     "name": "stdout",
     "output_type": "stream",
     "text": [
      "caching sha2: succeeded by fast path.\n"
     ]
    }
   ],
   "source": [
    "conn = pymysql.connect(host='127.0.0.1', port=3306, user='root', passwd='onion', db='blood')\n",
    "cur = conn.cursor()\n"
   ]
  },
  {
   "cell_type": "code",
   "execution_count": 63,
   "metadata": {},
   "outputs": [
    {
     "data": {
      "text/plain": [
       "0"
      ]
     },
     "execution_count": 63,
     "metadata": {},
     "output_type": "execute_result"
    }
   ],
   "source": [
    "cur.execute(\"SELECT * from hello\")\n"
   ]
  },
  {
   "cell_type": "code",
   "execution_count": null,
   "metadata": {
    "collapsed": true
   },
   "outputs": [],
   "source": []
  },
  {
   "cell_type": "code",
   "execution_count": 64,
   "metadata": {},
   "outputs": [],
   "source": [
    "cur.close()\n",
    "conn.close()"
   ]
  },
  {
   "cell_type": "code",
   "execution_count": 78,
   "metadata": {},
   "outputs": [
    {
     "name": "stdout",
     "output_type": "stream",
     "text": [
      "b'{\"errors\":[{\"code\":3,\"message\":\"Invalid login details\"}],\"status\":\"failure\"}'\n"
     ]
    }
   ],
   "source": [
    "#!/usr/bin/env python\n",
    " \n",
    "import urllib.request\n",
    "import urllib.parse\n",
    " \n",
    "def sendSMS(apikey, numbers, sender, message):\n",
    "    data =  urllib.parse.urlencode({'apikey': apikey, 'numbers': numbers,\n",
    "        'message' : message, 'sender': sender})\n",
    "    data = data.encode('utf-8')\n",
    "    request = urllib.request.Request(\"https://api.textlocal.in/send/?\")\n",
    "    f = urllib.request.urlopen(request, data)\n",
    "    fr = f.read()\n",
    "    return(fr)\n",
    " \n",
    "resp =  sendSMS('qDT9X1c/6E0-JZ1S2ZXjRYutPww5TNJ3x6hp8qhplf', '918767973888','TXTLCL', 'Hello world')\n",
    "print (resp)"
   ]
  }
 ],
 "metadata": {
  "kernelspec": {
   "display_name": "Python 3",
   "language": "python",
   "name": "python3"
  },
  "language_info": {
   "codemirror_mode": {
    "name": "ipython",
    "version": 3
   },
   "file_extension": ".py",
   "mimetype": "text/x-python",
   "name": "python",
   "nbconvert_exporter": "python",
   "pygments_lexer": "ipython3",
   "version": "3.6.3"
  }
 },
 "nbformat": 4,
 "nbformat_minor": 2
}
